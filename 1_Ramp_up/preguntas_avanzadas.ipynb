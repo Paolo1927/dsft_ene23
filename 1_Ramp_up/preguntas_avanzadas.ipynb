{
 "cells": [
  {
   "cell_type": "code",
   "execution_count": 10,
   "id": "de84681b",
   "metadata": {},
   "outputs": [],
   "source": [
    "# tuplas y listas\n",
    "\n",
    "# esto NO NO NO NO NO NO entra para el ramp-up\n",
    "# por tranquilizar: esto NO NO NO NO entra en el ramp-up NI se exige para el examen\n",
    "\n",
    "mi_tupla = (1,2,3,True,[4,5,6,(7,8)], (9,))\n"
   ]
  },
  {
   "cell_type": "code",
   "execution_count": 11,
   "id": "40162af3",
   "metadata": {},
   "outputs": [
    {
     "ename": "TypeError",
     "evalue": "'tuple' object does not support item assignment",
     "output_type": "error",
     "traceback": [
      "\u001b[1;31m---------------------------------------------------------------------------\u001b[0m",
      "\u001b[1;31mTypeError\u001b[0m                                 Traceback (most recent call last)",
      "\u001b[1;32m~\\AppData\\Local\\Temp/ipykernel_8920/1209693701.py\u001b[0m in \u001b[0;36m<module>\u001b[1;34m\u001b[0m\n\u001b[1;32m----> 1\u001b[1;33m \u001b[0mmi_tupla\u001b[0m\u001b[1;33m[\u001b[0m\u001b[1;36m0\u001b[0m\u001b[1;33m]\u001b[0m \u001b[1;33m=\u001b[0m \u001b[1;36m9\u001b[0m\u001b[1;33m\u001b[0m\u001b[1;33m\u001b[0m\u001b[0m\n\u001b[0m",
      "\u001b[1;31mTypeError\u001b[0m: 'tuple' object does not support item assignment"
     ]
    }
   ],
   "source": [
    "mi_tupla[0] = 9"
   ]
  },
  {
   "cell_type": "code",
   "execution_count": 12,
   "id": "95e34a9f",
   "metadata": {},
   "outputs": [
    {
     "ename": "TypeError",
     "evalue": "'tuple' object does not support item assignment",
     "output_type": "error",
     "traceback": [
      "\u001b[1;31m---------------------------------------------------------------------------\u001b[0m",
      "\u001b[1;31mTypeError\u001b[0m                                 Traceback (most recent call last)",
      "\u001b[1;32m~\\AppData\\Local\\Temp/ipykernel_8920/683223243.py\u001b[0m in \u001b[0;36m<module>\u001b[1;34m\u001b[0m\n\u001b[1;32m----> 1\u001b[1;33m \u001b[0mmi_tupla\u001b[0m\u001b[1;33m[\u001b[0m\u001b[1;36m3\u001b[0m\u001b[1;33m]\u001b[0m \u001b[1;33m=\u001b[0m \u001b[1;36m5\u001b[0m\u001b[1;33m\u001b[0m\u001b[1;33m\u001b[0m\u001b[0m\n\u001b[0m",
      "\u001b[1;31mTypeError\u001b[0m: 'tuple' object does not support item assignment"
     ]
    }
   ],
   "source": [
    "mi_tupla[3] = 5"
   ]
  },
  {
   "cell_type": "code",
   "execution_count": 13,
   "id": "608d4a34",
   "metadata": {},
   "outputs": [
    {
     "ename": "TypeError",
     "evalue": "'tuple' object does not support item assignment",
     "output_type": "error",
     "traceback": [
      "\u001b[1;31m---------------------------------------------------------------------------\u001b[0m",
      "\u001b[1;31mTypeError\u001b[0m                                 Traceback (most recent call last)",
      "\u001b[1;32m~\\AppData\\Local\\Temp/ipykernel_8920/2706209084.py\u001b[0m in \u001b[0;36m<module>\u001b[1;34m\u001b[0m\n\u001b[1;32m----> 1\u001b[1;33m \u001b[0mmi_tupla\u001b[0m\u001b[1;33m[\u001b[0m\u001b[1;36m4\u001b[0m\u001b[1;33m]\u001b[0m \u001b[1;33m=\u001b[0m \u001b[0mmi_tupla\u001b[0m\u001b[1;33m[\u001b[0m\u001b[1;36m4\u001b[0m\u001b[1;33m]\u001b[0m\u001b[1;33m.\u001b[0m\u001b[0mappend\u001b[0m\u001b[1;33m(\u001b[0m\u001b[1;32mNone\u001b[0m\u001b[1;33m)\u001b[0m\u001b[1;33m\u001b[0m\u001b[1;33m\u001b[0m\u001b[0m\n\u001b[0m",
      "\u001b[1;31mTypeError\u001b[0m: 'tuple' object does not support item assignment"
     ]
    }
   ],
   "source": [
    "mi_tupla[4] = mi_tupla[4].append(None)"
   ]
  },
  {
   "cell_type": "code",
   "execution_count": 14,
   "id": "1c53038e",
   "metadata": {},
   "outputs": [],
   "source": [
    "mi_tupla[4].append(None)"
   ]
  },
  {
   "cell_type": "code",
   "execution_count": 15,
   "id": "d68afb16",
   "metadata": {},
   "outputs": [
    {
     "data": {
      "text/plain": [
       "(1, 2, 3, True, [4, 5, 6, (7, 8), None, None], (9,))"
      ]
     },
     "execution_count": 15,
     "metadata": {},
     "output_type": "execute_result"
    }
   ],
   "source": [
    "mi_tupla #aparecen 2 Nones porque 2 celdas arriba el append es correcto\n",
    "# pero la asignación no"
   ]
  },
  {
   "cell_type": "code",
   "execution_count": 17,
   "id": "eb7d7be3",
   "metadata": {},
   "outputs": [
    {
     "data": {
      "text/plain": [
       "(7, True, [1, 2, 3, 'hola'])"
      ]
     },
     "execution_count": 17,
     "metadata": {},
     "output_type": "execute_result"
    }
   ],
   "source": [
    "# explicación clara\n",
    "# las listas se pueden cambiar (asignación)\n",
    "# las tuplas no se pueden cambiar (no es posible la asignación)\n",
    "\n",
    "numero = 7\n",
    "booleano = True\n",
    "lista = [1,2,3]\n",
    "tupla = (numero, booleano, lista)\n",
    "\n",
    "numero = 17 # objeto nuevo\n",
    "booleano = False # objeto nuevo\n",
    "lista.append(\"hola\") # mismo objeto\n",
    "\n",
    "tupla"
   ]
  },
  {
   "cell_type": "code",
   "execution_count": 18,
   "id": "831da17a",
   "metadata": {},
   "outputs": [
    {
     "data": {
      "text/plain": [
       "(7, True, [1, 2, 3, 'hola'])"
      ]
     },
     "execution_count": 18,
     "metadata": {},
     "output_type": "execute_result"
    }
   ],
   "source": [
    "lista = [3,2,1] # objeto nuevo\n",
    "tupla"
   ]
  },
  {
   "cell_type": "code",
   "execution_count": null,
   "id": "4144a291",
   "metadata": {},
   "outputs": [],
   "source": [
    "7 + 2 # no cambia el 7\n",
    "not True # no cambia el objeto True original\n"
   ]
  },
  {
   "cell_type": "code",
   "execution_count": 20,
   "id": "b8d7b54a",
   "metadata": {},
   "outputs": [
    {
     "data": {
      "text/plain": [
       "(7, True, ['cambio', 2, 3, 'hola'])"
      ]
     },
     "execution_count": 20,
     "metadata": {},
     "output_type": "execute_result"
    }
   ],
   "source": [
    "tupla[2][0] = \"cambio\" # sí modifica el objeto lista original, pero es el mismo objeto\n",
    "tupla"
   ]
  },
  {
   "cell_type": "code",
   "execution_count": null,
   "id": "74504212",
   "metadata": {},
   "outputs": [],
   "source": [
    "# una tupla se crea con objetos, NO se puede dar el cambiazo a los objetos, pero sí se puede \"tunear\" un objeto\n",
    "# siempre y cuando sea el mismo objeto\n",
    "# metáfora: una tupla de personas te deja cortarles el pelo o cambiarles el abrigo, pero NO cambiar personas"
   ]
  },
  {
   "cell_type": "code",
   "execution_count": null,
   "id": "4dbfdec5",
   "metadata": {},
   "outputs": [],
   "source": [
    "# más claro cuando veamos objetos : ))"
   ]
  }
 ],
 "metadata": {
  "kernelspec": {
   "display_name": "Python 3 (ipykernel)",
   "language": "python",
   "name": "python3"
  },
  "language_info": {
   "codemirror_mode": {
    "name": "ipython",
    "version": 3
   },
   "file_extension": ".py",
   "mimetype": "text/x-python",
   "name": "python",
   "nbconvert_exporter": "python",
   "pygments_lexer": "ipython3",
   "version": "3.9.7"
  }
 },
 "nbformat": 4,
 "nbformat_minor": 5
}
